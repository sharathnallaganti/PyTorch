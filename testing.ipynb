{
  "nbformat": 4,
  "nbformat_minor": 0,
  "metadata": {
    "colab": {
      "provenance": [],
      "gpuType": "T4",
      "authorship_tag": "ABX9TyODysoJX8joZo35kobOuhuA",
      "include_colab_link": true
    },
    "kernelspec": {
      "name": "python3",
      "display_name": "Python 3"
    },
    "language_info": {
      "name": "python"
    },
    "accelerator": "GPU"
  },
  "cells": [
    {
      "cell_type": "markdown",
      "metadata": {
        "id": "view-in-github",
        "colab_type": "text"
      },
      "source": [
        "<a href=\"https://colab.research.google.com/github/sharathnallaganti/PyTorch/blob/main/testing.ipynb\" target=\"_parent\"><img src=\"https://colab.research.google.com/assets/colab-badge.svg\" alt=\"Open In Colab\"/></a>"
      ]
    },
    {
      "cell_type": "code",
      "execution_count": 20,
      "metadata": {
        "id": "EjeE_KTp1vuQ"
      },
      "outputs": [],
      "source": [
        "import torch\n",
        "import numpy as np\n",
        "import torch\n",
        "import nltk\n"
      ]
    },
    {
      "cell_type": "markdown",
      "source": [
        "**1.what is array,matrix,tensor**\n"
      ],
      "metadata": {
        "id": "MTCGlaBCCFH0"
      }
    },
    {
      "cell_type": "code",
      "source": [
        "# what is an array\n",
        "#An array is a data structure that stores a fixed-size sequence of elements of the same type, allowing for indexed access to each element.\n",
        "\n",
        "my_list = [[1,2,3,4,5],[6,7,8,9,0]]\n",
        "print(my_list)\n",
        "print(len(my_list))\n",
        "\n",
        "\"\"\"\n",
        "A matrix is a two-dimensional array consisting of rows and columns, where\n",
        "each element is typically of the same type\n",
        "\"\"\"\n"
      ],
      "metadata": {
        "colab": {
          "base_uri": "https://localhost:8080/",
          "height": 87
        },
        "id": "pMQvVz4-9qZ9",
        "outputId": "db80af6e-4af3-4bc0-dba9-e029e3799b0c"
      },
      "execution_count": 28,
      "outputs": [
        {
          "output_type": "stream",
          "name": "stdout",
          "text": [
            "[[1, 2, 3, 4, 5], [6, 7, 8, 9, 0]]\n",
            "2\n"
          ]
        },
        {
          "output_type": "execute_result",
          "data": {
            "text/plain": [
              "'\\nA matrix is a two-dimensional array consisting of rows and columns, where \\neach element is typically of the same type\\n'"
            ],
            "application/vnd.google.colaboratory.intrinsic+json": {
              "type": "string"
            }
          },
          "metadata": {},
          "execution_count": 28
        }
      ]
    },
    {
      "cell_type": "code",
      "source": [
        "import numpy as np\n",
        "n1= np.array([1,2,3,4,5])\n",
        "print(n1)\n",
        "print(n1.dtype)\n",
        "print(n1.size)\n",
        "print(n1.shape)\n",
        "\n",
        "\n",
        "# mutli dimension array\n",
        "\n",
        "n2 =np.random.rand(2,2)\n",
        "print(n2)\n",
        "\n"
      ],
      "metadata": {
        "colab": {
          "base_uri": "https://localhost:8080/"
        },
        "id": "q5g99B9TCm8e",
        "outputId": "cdcb481c-7686-4a9b-f9f1-fc2aa11362ee"
      },
      "execution_count": 21,
      "outputs": [
        {
          "output_type": "stream",
          "name": "stdout",
          "text": [
            "[1 2 3 4 5]\n",
            "int64\n",
            "5\n",
            "(5,)\n",
            "[[0.24690574 0.95214788]\n",
            " [0.53014078 0.18610289]]\n"
          ]
        }
      ]
    },
    {
      "cell_type": "code",
      "source": [],
      "metadata": {
        "id": "41ZeoHhQCn1l"
      },
      "execution_count": 22,
      "outputs": []
    }
  ]
}